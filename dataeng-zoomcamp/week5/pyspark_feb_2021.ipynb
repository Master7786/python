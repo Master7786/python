{
 "cells": [
  {
   "cell_type": "code",
   "execution_count": 31,
   "id": "cce93db5",
   "metadata": {},
   "outputs": [],
   "source": [
    "import pyspark\n",
    "from pyspark.sql import SparkSession\n",
    "from pyspark.sql import types\n",
    "import pyspark.sql.functions as F"
   ]
  },
  {
   "cell_type": "code",
   "execution_count": 32,
   "id": "e18c04c8",
   "metadata": {},
   "outputs": [],
   "source": [
    "spark = SparkSession.builder \\\n",
    "    .master(\"local[2]\") \\\n",
    "    .appName('test') \\\n",
    "    .getOrCreate()"
   ]
  },
  {
   "cell_type": "code",
   "execution_count": 74,
   "id": "ab2e9f56",
   "metadata": {},
   "outputs": [
    {
     "data": {
      "text/plain": [
       "'3.2.0'"
      ]
     },
     "execution_count": 74,
     "metadata": {},
     "output_type": "execute_result"
    }
   ],
   "source": [
    "spark.version"
   ]
  },
  {
   "cell_type": "code",
   "execution_count": 33,
   "id": "ca03e74f",
   "metadata": {},
   "outputs": [],
   "source": [
    "schema = types.StructType([\n",
    "    types.StructField('hvfhs_license_num', types.StringType(), True),\n",
    "    types.StructField('dispatching_base_num', types.StringType(), True),\n",
    "    types.StructField('pickup_datetime', types.TimestampType(), True),\n",
    "    types.StructField('dropoff_datetime', types.TimestampType(), True),\n",
    "    types.StructField('PULocationID', types.IntegerType(), True),\n",
    "    types.StructField('DOLocationID', types.IntegerType(), True),\n",
    "    types.StructField('SR_Flag', types.StringType(), True)\n",
    "])"
   ]
  },
  {
   "cell_type": "code",
   "execution_count": 4,
   "id": "f6e29ef9",
   "metadata": {},
   "outputs": [],
   "source": [
    "df = spark.read \\\n",
    "    .option(\"header\", \"true\") \\\n",
    "    .schema(schema) \\\n",
    "    .csv('fhvhv_tripdata_2021-02.csv')"
   ]
  },
  {
   "cell_type": "code",
   "execution_count": 5,
   "id": "69aae919",
   "metadata": {},
   "outputs": [
    {
     "data": {
      "text/plain": [
       "StructType(List(StructField(hvfhs_license_num,StringType,true),StructField(dispatching_base_num,StringType,true),StructField(pickup_datetime,TimestampType,true),StructField(dropoff_datetime,TimestampType,true),StructField(PULocationID,IntegerType,true),StructField(DOLocationID,IntegerType,true),StructField(SR_Flag,StringType,true)))"
      ]
     },
     "execution_count": 5,
     "metadata": {},
     "output_type": "execute_result"
    }
   ],
   "source": [
    "df.schema"
   ]
  },
  {
   "cell_type": "code",
   "execution_count": 6,
   "id": "583de98b",
   "metadata": {},
   "outputs": [
    {
     "name": "stdout",
     "output_type": "stream",
     "text": [
      "+-----------------+--------------------+-------------------+-------------------+------------+------------+-------+\n",
      "|hvfhs_license_num|dispatching_base_num|    pickup_datetime|   dropoff_datetime|PULocationID|DOLocationID|SR_Flag|\n",
      "+-----------------+--------------------+-------------------+-------------------+------------+------------+-------+\n",
      "|           HV0003|              B02764|2021-02-01 00:10:40|2021-02-01 00:21:09|          35|          39|   null|\n",
      "|           HV0003|              B02764|2021-02-01 00:27:23|2021-02-01 00:44:01|          39|          35|   null|\n",
      "|           HV0005|              B02510|2021-02-01 00:28:38|2021-02-01 00:38:27|          39|          91|   null|\n",
      "|           HV0005|              B02510|2021-02-01 00:43:37|2021-02-01 01:23:20|          91|         228|   null|\n",
      "|           HV0003|              B02872|2021-02-01 00:08:42|2021-02-01 00:17:57|         126|         250|   null|\n",
      "|           HV0003|              B02872|2021-02-01 00:26:02|2021-02-01 00:42:51|         208|         243|   null|\n",
      "|           HV0003|              B02872|2021-02-01 00:45:50|2021-02-01 01:02:50|         243|         220|   null|\n",
      "|           HV0003|              B02764|2021-02-01 00:06:42|2021-02-01 00:31:50|          49|          37|   null|\n",
      "|           HV0003|              B02764|2021-02-01 00:34:34|2021-02-01 00:58:13|          37|          76|   null|\n",
      "|           HV0005|              B02510|2021-02-01 00:03:43|2021-02-01 00:39:37|          80|         241|   null|\n",
      "|           HV0005|              B02510|2021-02-01 00:55:36|2021-02-01 01:08:39|         174|          51|   null|\n",
      "|           HV0005|              B02510|2021-02-01 00:06:13|2021-02-01 00:33:45|         235|         129|   null|\n",
      "|           HV0005|              B02510|2021-02-01 00:42:24|2021-02-01 01:11:31|         129|         169|   null|\n",
      "|           HV0003|              B02764|2021-02-01 00:07:05|2021-02-01 00:20:53|         226|          82|   null|\n",
      "|           HV0003|              B02764|2021-02-01 00:28:56|2021-02-01 00:33:59|          82|         129|   null|\n",
      "|           HV0003|              B02764|2021-02-01 00:44:53|2021-02-01 01:07:54|           7|          79|   null|\n",
      "|           HV0003|              B02888|2021-02-01 00:17:55|2021-02-01 00:34:41|           4|         170|   null|\n",
      "|           HV0003|              B02888|2021-02-01 00:38:14|2021-02-01 00:59:20|         164|          42|   null|\n",
      "|           HV0004|              B02800|2021-02-01 00:08:04|2021-02-01 00:24:41|         237|           4|   null|\n",
      "|           HV0004|              B02800|2021-02-01 00:30:44|2021-02-01 00:41:26|         107|          45|   null|\n",
      "+-----------------+--------------------+-------------------+-------------------+------------+------------+-------+\n",
      "only showing top 20 rows\n",
      "\n"
     ]
    }
   ],
   "source": [
    "df.show()"
   ]
  },
  {
   "cell_type": "code",
   "execution_count": 7,
   "id": "29a9aa3d",
   "metadata": {},
   "outputs": [],
   "source": [
    "df = df.withColumn('pickup_date', F.to_date(df.pickup_datetime))\n",
    "df = df.withColumn('dropoff_date', F.to_date(df.dropoff_datetime))"
   ]
  },
  {
   "cell_type": "code",
   "execution_count": 8,
   "id": "07277493",
   "metadata": {},
   "outputs": [
    {
     "name": "stdout",
     "output_type": "stream",
     "text": [
      "+--------------------+-----------+------------+\n",
      "|dispatching_base_num|pickup_date|dropoff_date|\n",
      "+--------------------+-----------+------------+\n",
      "|              B02764| 2021-02-01|  2021-02-01|\n",
      "|              B02764| 2021-02-01|  2021-02-01|\n",
      "|              B02510| 2021-02-01|  2021-02-01|\n",
      "|              B02510| 2021-02-01|  2021-02-01|\n",
      "|              B02872| 2021-02-01|  2021-02-01|\n",
      "|              B02872| 2021-02-01|  2021-02-01|\n",
      "|              B02872| 2021-02-01|  2021-02-01|\n",
      "|              B02764| 2021-02-01|  2021-02-01|\n",
      "|              B02764| 2021-02-01|  2021-02-01|\n",
      "|              B02510| 2021-02-01|  2021-02-01|\n",
      "|              B02510| 2021-02-01|  2021-02-01|\n",
      "|              B02510| 2021-02-01|  2021-02-01|\n",
      "|              B02510| 2021-02-01|  2021-02-01|\n",
      "|              B02764| 2021-02-01|  2021-02-01|\n",
      "|              B02764| 2021-02-01|  2021-02-01|\n",
      "|              B02764| 2021-02-01|  2021-02-01|\n",
      "|              B02888| 2021-02-01|  2021-02-01|\n",
      "|              B02888| 2021-02-01|  2021-02-01|\n",
      "|              B02800| 2021-02-01|  2021-02-01|\n",
      "|              B02800| 2021-02-01|  2021-02-01|\n",
      "+--------------------+-----------+------------+\n",
      "only showing top 20 rows\n",
      "\n"
     ]
    }
   ],
   "source": [
    "df.select(['dispatching_base_num', 'pickup_date', 'dropoff_date'])\\\n",
    "    .show()"
   ]
  },
  {
   "cell_type": "code",
   "execution_count": 23,
   "id": "e486f633",
   "metadata": {},
   "outputs": [
    {
     "data": {
      "text/plain": [
       "['hvfhs_license_num',\n",
       " 'dispatching_base_num',\n",
       " 'pickup_datetime',\n",
       " 'dropoff_datetime',\n",
       " 'PULocationID',\n",
       " 'DOLocationID',\n",
       " 'SR_Flag',\n",
       " 'pickup_date',\n",
       " 'dropoff_date']"
      ]
     },
     "execution_count": 23,
     "metadata": {},
     "output_type": "execute_result"
    }
   ],
   "source": [
    "df.columns"
   ]
  },
  {
   "cell_type": "code",
   "execution_count": 53,
   "id": "5c58ed08",
   "metadata": {},
   "outputs": [],
   "source": [
    "df.repartition(24).write.parquet(\"processed_repartition/2021-02/\", mode='overwrite')"
   ]
  },
  {
   "cell_type": "code",
   "execution_count": 54,
   "id": "9898f89b",
   "metadata": {},
   "outputs": [],
   "source": [
    "df_pq = spark.read.parquet('processed_repartition/*')"
   ]
  },
  {
   "cell_type": "code",
   "execution_count": 55,
   "id": "f8f99f55",
   "metadata": {},
   "outputs": [
    {
     "data": {
      "text/plain": [
       "StructType(List(StructField(hvfhs_license_num,StringType,true),StructField(dispatching_base_num,StringType,true),StructField(pickup_datetime,TimestampType,true),StructField(dropoff_datetime,TimestampType,true),StructField(PULocationID,IntegerType,true),StructField(DOLocationID,IntegerType,true),StructField(SR_Flag,StringType,true),StructField(pickup_date,DateType,true),StructField(dropoff_date,DateType,true)))"
      ]
     },
     "execution_count": 55,
     "metadata": {},
     "output_type": "execute_result"
    }
   ],
   "source": [
    "df_pq.schema"
   ]
  },
  {
   "cell_type": "code",
   "execution_count": 56,
   "id": "d46d0f18",
   "metadata": {},
   "outputs": [
    {
     "name": "stderr",
     "output_type": "stream",
     "text": [
      "C:\\Users\\abdul\\anaconda3\\lib\\site-packages\\pyspark\\sql\\dataframe.py:138: FutureWarning: Deprecated in 2.0, use createOrReplaceTempView instead.\n",
      "  warnings.warn(\n"
     ]
    }
   ],
   "source": [
    "df_pq.registerTempTable('taxi_data')"
   ]
  },
  {
   "cell_type": "code",
   "execution_count": 57,
   "id": "e0d76a3b",
   "metadata": {},
   "outputs": [
    {
     "name": "stdout",
     "output_type": "stream",
     "text": [
      "+--------+\n",
      "|count(1)|\n",
      "+--------+\n",
      "|  367170|\n",
      "+--------+\n",
      "\n"
     ]
    }
   ],
   "source": [
    "# How many taxi trips were there on February 15?\n",
    "spark.sql('''\n",
    "    select count(1) from taxi_data where pickup_date = '2021-02-15'\n",
    "''').show()"
   ]
  },
  {
   "cell_type": "code",
   "execution_count": 68,
   "id": "90de3228",
   "metadata": {},
   "outputs": [
    {
     "name": "stdout",
     "output_type": "stream",
     "text": [
      "+-----------+-----------------+\n",
      "|pickup_date|trip_duration_sec|\n",
      "+-----------+-----------------+\n",
      "| 2021-02-11|            75540|\n",
      "+-----------+-----------------+\n",
      "\n"
     ]
    }
   ],
   "source": [
    "# Day with the longest trip *\n",
    "spark.sql('''\n",
    "    select pickup_date, (unix_timestamp(dropoff_datetime) - unix_timestamp(pickup_datetime)) as trip_duration_sec\n",
    "    from taxi_data\n",
    "    order by trip_duration_sec desc limit 1\n",
    "''').show()"
   ]
  },
  {
   "cell_type": "code",
   "execution_count": 73,
   "id": "0a9df51f",
   "metadata": {},
   "outputs": [
    {
     "name": "stdout",
     "output_type": "stream",
     "text": [
      "+--------------------+-------+\n",
      "|dispatching_base_num|  count|\n",
      "+--------------------+-------+\n",
      "|              B02510|3233664|\n",
      "+--------------------+-------+\n",
      "\n"
     ]
    }
   ],
   "source": [
    "#find the most frequently occurring dispatching_base_num in this dataset.\n",
    "spark.sql('''\n",
    "    select dispatching_base_num ,count(1) as count\n",
    "    from taxi_data\n",
    "    group by dispatching_base_num\n",
    "    order by count desc limit 1\n",
    "''').show()"
   ]
  },
  {
   "cell_type": "code",
   "execution_count": 76,
   "id": "e2b9a2e4",
   "metadata": {},
   "outputs": [],
   "source": [
    "df_zone = spark.read.option('header', 'true').csv('taxi+_zone_lookup.csv')"
   ]
  },
  {
   "cell_type": "code",
   "execution_count": 77,
   "id": "3a47b33b",
   "metadata": {},
   "outputs": [
    {
     "data": {
      "text/plain": [
       "StructType(List(StructField(LocationID,StringType,true),StructField(Borough,StringType,true),StructField(Zone,StringType,true),StructField(service_zone,StringType,true)))"
      ]
     },
     "execution_count": 77,
     "metadata": {},
     "output_type": "execute_result"
    }
   ],
   "source": [
    "df_zone.schema"
   ]
  },
  {
   "cell_type": "code",
   "execution_count": 78,
   "id": "d1642c26",
   "metadata": {},
   "outputs": [
    {
     "name": "stderr",
     "output_type": "stream",
     "text": [
      "C:\\Users\\abdul\\anaconda3\\lib\\site-packages\\pyspark\\sql\\dataframe.py:138: FutureWarning: Deprecated in 2.0, use createOrReplaceTempView instead.\n",
      "  warnings.warn(\n"
     ]
    }
   ],
   "source": [
    "df_zone.registerTempTable('zone')"
   ]
  },
  {
   "cell_type": "code",
   "execution_count": 102,
   "id": "8ef7d0e2",
   "metadata": {},
   "outputs": [
    {
     "name": "stdout",
     "output_type": "stream",
     "text": [
      "+---------------------------+-----+\n",
      "|zone_pair                  |count|\n",
      "+---------------------------+-----+\n",
      "|East New York/East New York|45041|\n",
      "+---------------------------+-----+\n",
      "\n"
     ]
    }
   ],
   "source": [
    "spark.sql('''\n",
    "    select concat(coalesce(pickup_zone.Zone, 'Unknown'), '/', coalesce(drop_zone.Zone, 'Unknown'))\n",
    "    as zone_pair, count(1) as count from taxi_data a\n",
    "    join zone as pickup_zone on a.PULocationID = pickup_zone.LocationID\n",
    "    join zone as drop_zone on a.DOLocationID = drop_zone.LocationID\n",
    "    group by pickup_zone.Zone, drop_zone.Zone\n",
    "    order by count desc limit 1\n",
    "''').show(100, False)"
   ]
  },
  {
   "cell_type": "code",
   "execution_count": 100,
   "id": "9b60ed89",
   "metadata": {},
   "outputs": [
    {
     "name": "stdout",
     "output_type": "stream",
     "text": [
      "+------------+------------+\n",
      "|PULocationID|DOLocationID|\n",
      "+------------+------------+\n",
      "|          42|          74|\n",
      "|          42|          75|\n",
      "|         174|          20|\n",
      "|          82|         234|\n",
      "|         127|         243|\n",
      "|         148|         158|\n",
      "|          36|          80|\n",
      "|         133|          89|\n",
      "|          81|          87|\n",
      "|         244|         243|\n",
      "|          26|         133|\n",
      "|         248|         250|\n",
      "|         142|          75|\n",
      "|         158|          50|\n",
      "|          16|          92|\n",
      "|          61|         234|\n",
      "|          74|         159|\n",
      "|         117|          42|\n",
      "|         159|         185|\n",
      "|          64|          92|\n",
      "+------------+------------+\n",
      "only showing top 20 rows\n",
      "\n"
     ]
    }
   ],
   "source": [
    "spark.sql('''\n",
    "    select PULocationID, DOLocationID from taxi_data where PULocationID != DOLocationID\n",
    "''').show()"
   ]
  },
  {
   "cell_type": "code",
   "execution_count": null,
   "id": "174368dd",
   "metadata": {},
   "outputs": [],
   "source": []
  }
 ],
 "metadata": {
  "kernelspec": {
   "display_name": "Python 3",
   "language": "python",
   "name": "python3"
  },
  "language_info": {
   "codemirror_mode": {
    "name": "ipython",
    "version": 3
   },
   "file_extension": ".py",
   "mimetype": "text/x-python",
   "name": "python",
   "nbconvert_exporter": "python",
   "pygments_lexer": "ipython3",
   "version": "3.8.8"
  }
 },
 "nbformat": 4,
 "nbformat_minor": 5
}
